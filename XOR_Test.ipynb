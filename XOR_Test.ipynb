{
 "cells": [
  {
   "cell_type": "markdown",
   "metadata": {},
   "source": [
    "## XOR Test for Saddle-Free Optimizer\n",
    "\n",
    "This test is adapted from https://github.com/MoonL1ght/HessianFreeOptimization"
   ]
  },
  {
   "cell_type": "code",
   "execution_count": 1,
   "metadata": {},
   "outputs": [
    {
     "name": "stderr",
     "output_type": "stream",
     "text": [
      "E:\\012anaconda\\envs\\tens_36\\lib\\site-packages\\tensorflow\\python\\framework\\dtypes.py:523: FutureWarning: Passing (type, 1) or '1type' as a synonym of type is deprecated; in a future version of numpy, it will be understood as (type, (1,)) / '(1,)type'.\n",
      "  _np_qint8 = np.dtype([(\"qint8\", np.int8, 1)])\n",
      "E:\\012anaconda\\envs\\tens_36\\lib\\site-packages\\tensorflow\\python\\framework\\dtypes.py:524: FutureWarning: Passing (type, 1) or '1type' as a synonym of type is deprecated; in a future version of numpy, it will be understood as (type, (1,)) / '(1,)type'.\n",
      "  _np_quint8 = np.dtype([(\"quint8\", np.uint8, 1)])\n",
      "E:\\012anaconda\\envs\\tens_36\\lib\\site-packages\\tensorflow\\python\\framework\\dtypes.py:525: FutureWarning: Passing (type, 1) or '1type' as a synonym of type is deprecated; in a future version of numpy, it will be understood as (type, (1,)) / '(1,)type'.\n",
      "  _np_qint16 = np.dtype([(\"qint16\", np.int16, 1)])\n",
      "E:\\012anaconda\\envs\\tens_36\\lib\\site-packages\\tensorflow\\python\\framework\\dtypes.py:526: FutureWarning: Passing (type, 1) or '1type' as a synonym of type is deprecated; in a future version of numpy, it will be understood as (type, (1,)) / '(1,)type'.\n",
      "  _np_quint16 = np.dtype([(\"quint16\", np.uint16, 1)])\n",
      "E:\\012anaconda\\envs\\tens_36\\lib\\site-packages\\tensorflow\\python\\framework\\dtypes.py:527: FutureWarning: Passing (type, 1) or '1type' as a synonym of type is deprecated; in a future version of numpy, it will be understood as (type, (1,)) / '(1,)type'.\n",
      "  _np_qint32 = np.dtype([(\"qint32\", np.int32, 1)])\n",
      "E:\\012anaconda\\envs\\tens_36\\lib\\site-packages\\tensorflow\\python\\framework\\dtypes.py:532: FutureWarning: Passing (type, 1) or '1type' as a synonym of type is deprecated; in a future version of numpy, it will be understood as (type, (1,)) / '(1,)type'.\n",
      "  np_resource = np.dtype([(\"resource\", np.ubyte, 1)])\n"
     ]
    }
   ],
   "source": [
    "import numpy as np\n",
    "import tensorflow as tf\n",
    "import matplotlib.pyplot as plt\n",
    "from SFOptimizer import SFOptimizer\n",
    "from SFOptimizer import SFDamping\n",
    "\n",
    "np.set_printoptions(suppress=True)"
   ]
  },
  {
   "cell_type": "code",
   "execution_count": 2,
   "metadata": {},
   "outputs": [],
   "source": [
    "def test():\n",
    "    x = tf.placeholder(tf.float64, shape=[4,2], name='X')\n",
    "    y = tf.placeholder(tf.float64, shape=[4,1], name='Y')\n",
    "\n",
    "    with tf.name_scope('testnet'):\n",
    "        W_1 = tf.get_variable(\"weights_1\", initializer=tf.constant([[3.0, 5.0],[4.0, 7.0]], dtype=tf.float64), use_resource=True)\n",
    "        b_1 = tf.get_variable(\"bias_1\", [2], initializer=tf.zeros_initializer(), dtype=tf.float64, use_resource=True)\n",
    "        y_1 = tf.sigmoid(tf.matmul(x, W_1) + b_1)\n",
    "\n",
    "        W_2 = tf.get_variable(\"weights_2\", initializer=tf.constant([[-8.0], [7.0]], dtype=tf.float64), use_resource=True)\n",
    "        b_2 = tf.get_variable(\"bias_2\", [1], initializer=tf.zeros_initializer(), dtype=tf.float64, use_resource=True)\n",
    "        y_out = tf.matmul(y_1, W_2) + b_2\n",
    "\n",
    "        out = tf.nn.sigmoid(y_out)\n",
    "\n",
    "        \"\"\" Cross-entropy cost function \"\"\"\n",
    "        loss = tf.reduce_mean(( (y * tf.log(out)) + ((1 - y) * tf.log(1.0 - out)) ) * -1, name='log_loss')\n",
    "\n",
    "    var_list = [W_1, b_1, W_2, b_2]\n",
    "    \n",
    "    # See SFOptimizer.py for options\n",
    "    optimizer = SFOptimizer(var_list, krylov_dimension=4, damping_type=SFDamping.curvature, dtype=tf.float64)\n",
    "\n",
    "    sess = tf.Session()\n",
    "    sess.run(tf.global_variables_initializer())\n",
    "\n",
    "    XOR_X = [[0,0],[0,1],[1,0],[1,1]]\n",
    "    XOR_Y = [[0],[1],[1],[0]]\n",
    "    feed_dict = {x: XOR_X, y: XOR_Y}\n",
    "    \n",
    "    big_train_op = optimizer.minimize(loss)\n",
    "    little_train_op = optimizer.fixed_subspace_step()\n",
    "    update_op = optimizer.update()\n",
    "    reset_op = optimizer.reset_lambda()\n",
    "\n",
    "    max_epochs = 10\n",
    "    history = []\n",
    "\n",
    "    print('Loop over epochs...')\n",
    "    for i in range(max_epochs):\n",
    "        print('-- Epoch:', i + 1, '--')\n",
    "        \n",
    "        # Reset the damping parameter\n",
    "        _ = sess.run(reset_op)\n",
    "        \n",
    "        # Compute Krylov subspace and take one training step\n",
    "        initial_loss, initial_lambda, _ = sess.run([loss, optimizer.lambda_damp, big_train_op], feed_dict=feed_dict)\n",
    "        final_loss, rho, _ = sess.run([loss, optimizer.rho, update_op], feed_dict=feed_dict)\n",
    "        print('    Loss_i:', initial_loss, 'Loss_f:', final_loss, 'rho', rho, 'lambda:', initial_lambda)\n",
    "        \n",
    "        # Take up to 5 more steps without recomputing the Krylov subspace\n",
    "        for little_step in range(5):\n",
    "            initial_loss, initial_lambda, _ = sess.run([loss, optimizer.lambda_damp, little_train_op], feed_dict=feed_dict)\n",
    "            final_loss, rho, _ = sess.run([loss, optimizer.rho, update_op], feed_dict=feed_dict)\n",
    "            print('    Loss_i:', initial_loss, 'Loss_f:', final_loss, 'rho', rho, 'lambda:', initial_lambda)\n",
    "        \n",
    "        # Save trajectory for plot\n",
    "        history += [initial_loss]\n",
    "\n",
    "    if final_loss < initial_loss:\n",
    "        history += [final_loss]\n",
    "    \n",
    "    return history, optimizer.get_name()"
   ]
  },
  {
   "cell_type": "code",
   "execution_count": 3,
   "metadata": {},
   "outputs": [
    {
     "name": "stdout",
     "output_type": "stream",
     "text": [
      "Loop over epochs...\n",
      "-- Epoch: 1 --\n",
      "    Loss_i: 0.7713680125341842 Loss_f: 0.6161837253779544 rho 0.1314134820463376 lambda: 0.01\n",
      "    Loss_i: 0.6161837253779544 Loss_f: 5.494405241151847 rho -18.4894345703634 lambda: 0.01\n",
      "    Loss_i: 0.6161837253779544 Loss_f: 4.7852114060156445 rho -11.9062472424073 lambda: 0.1\n",
      "    Loss_i: 0.6161837253779544 Loss_f: 1.6372663798156377 rho -0.8415624680137618 lambda: 1.0\n",
      "    Loss_i: 0.6161837253779544 Loss_f: 0.6793841372744269 rho -0.00641957767616772 lambda: 10.0\n",
      "    Loss_i: 0.6161837253779544 Loss_f: 0.6793841372744269 rho -0.00641957767616772 lambda: 10.0\n",
      "-- Epoch: 2 --\n",
      "    Loss_i: 0.6161837253779544 Loss_f: 0.4388784420760004 rho 0.2985283725265818 lambda: 0.01\n",
      "    Loss_i: 0.4388784420760004 Loss_f: 0.4530667565644517 rho -0.04581255149910724 lambda: 0.01\n",
      "    Loss_i: 0.4388784420760004 Loss_f: 0.4399846779318758 rho -0.003145175739565298 lambda: 0.1\n",
      "    Loss_i: 0.4388784420760004 Loss_f: 0.41114174019387073 rho 0.03593140945722254 lambda: 1.0\n",
      "    Loss_i: 0.41114174019387073 Loss_f: 0.45478886177379313 rho -0.05082883976545727 lambda: 1.0\n",
      "    Loss_i: 0.41114174019387073 Loss_f: 0.4118172329674621 rho -0.00011024641338512278 lambda: 10.0\n",
      "-- Epoch: 3 --\n",
      "    Loss_i: 0.41114174019387073 Loss_f: 0.314967429594224 rho 0.20232811901568676 lambda: 0.01\n",
      "    Loss_i: 0.314967429594224 Loss_f: 0.2967506003722989 rho 0.08294022420131332 lambda: 0.01\n",
      "    Loss_i: 0.2967506003722989 Loss_f: 0.3716897661323739 rho -0.697732498013255 lambda: 0.01\n",
      "    Loss_i: 0.2967506003722989 Loss_f: 0.36085580904976544 rho -0.5081681523583954 lambda: 0.1\n",
      "    Loss_i: 0.2967506003722989 Loss_f: 0.32012807773379387 rho -0.0745438734040513 lambda: 1.0\n",
      "    Loss_i: 0.2967506003722989 Loss_f: 0.2991305598372974 rho -0.0010876430969878614 lambda: 10.0\n",
      "-- Epoch: 4 --\n",
      "    Loss_i: 0.2967506003722989 Loss_f: 0.6283980470833719 rho -2.5276138066322 lambda: 0.01\n",
      "    Loss_i: 0.2967506003722989 Loss_f: 0.4358741317932776 rho -1.0005553238441651 lambda: 0.1\n",
      "    Loss_i: 0.2967506003722989 Loss_f: 0.1650440092750965 rho 0.6057913025194962 lambda: 1.0\n",
      "    Loss_i: 0.1650440092750965 Loss_f: 2.3437764956995295 rho -180.25181965688353 lambda: 0.1\n",
      "    Loss_i: 0.1650440092750965 Loss_f: 0.6568111885260706 rho -5.696491177212613 lambda: 1.0\n",
      "    Loss_i: 0.1650440092750965 Loss_f: 0.17304828509043715 rho -0.007477273548103774 lambda: 10.0\n",
      "-- Epoch: 5 --\n",
      "    Loss_i: 0.1650440092750965 Loss_f: 0.04256913279958188 rho 0.822460767269789 lambda: 0.01\n",
      "    Loss_i: 0.04256913279958188 Loss_f: 0.22775078912211533 rho -0.5812114275869077 lambda: 0.001\n",
      "    Loss_i: 0.04256913279958188 Loss_f: 0.22265806168382493 rho -0.5524473000564833 lambda: 0.01\n",
      "    Loss_i: 0.04256913279958188 Loss_f: 0.1796807796862595 rho -0.3430444924317882 lambda: 0.1\n",
      "    Loss_i: 0.04256913279958188 Loss_f: 0.05705023921863545 rho -0.01273896226378407 lambda: 1.0\n",
      "    Loss_i: 0.04256913279958188 Loss_f: 0.03977033539340545 rho 0.00032898298464386814 lambda: 10.0\n",
      "-- Epoch: 6 --\n",
      "    Loss_i: 0.03977033539340545 Loss_f: 0.01196956928045716 rho 0.19480321317664015 lambda: 0.01\n",
      "    Loss_i: 0.01196956928045716 Loss_f: 0.003626549839656222 rho 0.03294767024692063 lambda: 0.01\n",
      "    Loss_i: 0.003626549839656222 Loss_f: 0.0012414679839451315 rho 0.005826689285121041 lambda: 0.01\n",
      "    Loss_i: 0.0012414679839451315 Loss_f: 0.0006912284114587483 rho 0.0009004624579818361 lambda: 0.01\n",
      "    Loss_i: 0.0006912284114587483 Loss_f: 0.003089360963505613 rho -0.0027937302077286723 lambda: 0.01\n",
      "    Loss_i: 0.0006912284114587483 Loss_f: 0.00242217610642117 rho -0.001797406963313826 lambda: 0.1\n",
      "-- Epoch: 7 --\n",
      "    Loss_i: 0.0006912284114587483 Loss_f: 0.00027104248958741535 rho 0.009541413229761535 lambda: 0.01\n",
      "    Loss_i: 0.00027104248958741535 Loss_f: 0.00011281384346945105 rho 0.0030542877410752586 lambda: 0.01\n",
      "    Loss_i: 0.00011281384346945105 Loss_f: 5.3006741401678305e-05 rho 0.0009929236151310797 lambda: 0.01\n",
      "    Loss_i: 5.3006741401678305e-05 Loss_f: 3.132098754871889e-05 rho 0.0003128269540659222 lambda: 0.01\n",
      "    Loss_i: 3.132098754871889e-05 Loss_f: 2.5163435833420727e-05 rho 7.787364673847742e-05 lambda: 0.01\n",
      "    Loss_i: 2.5163435833420727e-05 Loss_f: 2.6001965080615738e-05 rho -9.371045803982474e-06 lambda: 0.01\n",
      "-- Epoch: 8 --\n",
      "    Loss_i: 2.5163435833420727e-05 Loss_f: 9.388619626305962e-06 rho 0.010950235781924047 lambda: 0.01\n",
      "    Loss_i: 9.388619626305962e-06 Loss_f: 3.5101774957122082e-06 rho 0.0034316250992053256 lambda: 0.01\n",
      "    Loss_i: 3.5101774957122082e-06 Loss_f: 1.314650649095918e-06 rho 0.0010921450421268546 lambda: 0.01\n",
      "    Loss_i: 1.314650649095918e-06 Loss_f: 4.93199829138151e-07 rho 0.0003521915523907638 lambda: 0.01\n",
      "    Loss_i: 4.93199829138151e-07 Loss_f: 1.85350955190638e-07 rho 0.00011489696365144619 lambda: 0.01\n",
      "    Loss_i: 1.85350955190638e-07 Loss_f: 6.978699584557247e-08 rho 3.787570098543803e-05 lambda: 0.01\n",
      "-- Epoch: 9 --\n",
      "    Loss_i: 6.978699584557247e-08 Loss_f: 3.309155357433299e-08 rho 0.0042379058897142685 lambda: 0.01\n",
      "    Loss_i: 3.309155357433299e-08 Loss_f: 1.8351682455160264e-08 rho 0.0015295533704195504 lambda: 0.01\n",
      "    Loss_i: 1.8351682455160264e-08 Loss_f: 1.2177905704555138e-08 rho 0.0005786316171272037 lambda: 0.01\n",
      "    Loss_i: 1.2177905704555138e-08 Loss_f: 9.459769239621812e-09 rho 0.00023118200961481559 lambda: 0.01\n",
      "    Loss_i: 9.459769239621812e-09 Loss_f: 8.206654924302285e-09 rho 9.71364924249276e-05 lambda: 0.01\n",
      "    Loss_i: 8.206654924302285e-09 Loss_f: 7.626736835093926e-09 rho 4.113306149683979e-05 lambda: 0.01\n",
      "-- Epoch: 10 --\n",
      "    Loss_i: 7.626736835093926e-09 Loss_f: 2.9728276282929126e-09 rho 0.0034390343940843278 lambda: 0.01\n",
      "    Loss_i: 2.9728276282929126e-09 Loss_f: 1.2275061253306469e-09 rho 0.0011665686597162358 lambda: 0.01\n",
      "    Loss_i: 1.2275061253306469e-09 Loss_f: 5.742840094064351e-10 rho 0.00039681685649823445 lambda: 0.01\n",
      "    Loss_i: 5.742840094064351e-10 Loss_f: 3.309054975298733e-10 rho 0.00013495691805409101 lambda: 0.01\n",
      "    Loss_i: 3.309054975298733e-10 Loss_f: 2.413255984649251e-10 rho 4.55231464619122e-05 lambda: 0.01\n",
      "    Loss_i: 2.413255984649251e-10 Loss_f: 2.0951368425117e-10 rho 1.4869680711277204e-05 lambda: 0.01\n"
     ]
    },
    {
     "data": {
      "image/png": "[encoded data removed]",
      "text/plain": [
       "<Figure size 432x288 with 1 Axes>"
      ]
     },
     "metadata": {
      "needs_background": "light"
     },
     "output_type": "display_data"
    }
   ],
   "source": [
    "history, opt_name = test()\n",
    "    \n",
    "# Plot the cost\n",
    "plt.plot(history)\n",
    "plt.ylabel('cost')\n",
    "plt.xlabel('step')\n",
    "plt.title(opt_name + ' Optimizer')\n",
    "plt.show()"
   ]
  },
  {
   "cell_type": "code",
   "execution_count": null,
   "metadata": {},
   "outputs": [],
   "source": []
  }
 ],
 "metadata": {
  "kernelspec": {
   "display_name": "Python 3",
   "language": "python",
   "name": "python3"
  },
  "language_info": {
   "codemirror_mode": {
    "name": "ipython",
    "version": 3
   },
   "file_extension": ".py",
   "mimetype": "text/x-python",
   "name": "python",
   "nbconvert_exporter": "python",
   "pygments_lexer": "ipython3",
   "version": "3.6.15"
  }
 },
 "nbformat": 4,
 "nbformat_minor": 2
}
